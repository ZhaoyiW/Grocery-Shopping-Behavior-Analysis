{
 "cells": [
  {
   "cell_type": "code",
   "execution_count": 32,
   "metadata": {},
   "outputs": [],
   "source": [
    "import pandas as pd\n",
    "import matplotlib\n",
    "import mysql.connector"
   ]
  },
  {
   "cell_type": "code",
   "execution_count": 69,
   "metadata": {},
   "outputs": [],
   "source": [
    "my_db = mysql.connector.connect(host=\"localhost\", user='root',password='',db='db_consumer_panel',\n",
    "                              ssl_disabled = True )\n",
    "cursor = my_db.cursor()"
   ]
  },
  {
   "cell_type": "code",
   "execution_count": 5,
   "metadata": {},
   "outputs": [
    {
     "data": {
      "text/plain": [
       "True"
      ]
     },
     "execution_count": 5,
     "metadata": {},
     "output_type": "execute_result"
    }
   ],
   "source": [
    "sql_query = \"select department_at_prod_id as department, count(prod_id) as total_prod_per_department from dta_at_prod_id where department_at_prod_id is not null group by department_at_prod_id;\"\n",
    "mycursor = my_db.cursor()\n",
    "mycursor.execute(sql_query)\n",
    "myresult = mycursor.fetchall()\n",
    "mycursor.close()"
   ]
  },
  {
   "cell_type": "code",
   "execution_count": 6,
   "metadata": {},
   "outputs": [
    {
     "data": {
      "text/plain": [
       "[('GENERAL MERCHANDISE', 1145425),\n",
       " ('DRY GROCERY', 1188033),\n",
       " ('DELI', 74735),\n",
       " ('ALCOHOLIC BEVERAGES', 130662),\n",
       " ('FRESH PRODUCE', 50349),\n",
       " ('DAIRY', 123143),\n",
       " ('FROZEN FOODS', 192659),\n",
       " ('PACKAGED MEAT', 50980),\n",
       " ('HEALTH & BEAUTY CARE', 716162),\n",
       " ('NON-FOOD GROCERY', 515654),\n",
       " ('MAGNET DATA', 37)]"
      ]
     },
     "execution_count": 6,
     "metadata": {},
     "output_type": "execute_result"
    }
   ],
   "source": [
    "myresult"
   ]
  },
  {
   "cell_type": "code",
   "execution_count": 25,
   "metadata": {},
   "outputs": [],
   "source": [
    "myresult = pd.DataFrame(myresult)\n",
    "myresult.columns =['department','total_prod_per_department']"
   ]
  },
  {
   "cell_type": "code",
   "execution_count": 26,
   "metadata": {},
   "outputs": [
    {
     "data": {
      "text/html": [
       "<div>\n",
       "<style scoped>\n",
       "    .dataframe tbody tr th:only-of-type {\n",
       "        vertical-align: middle;\n",
       "    }\n",
       "\n",
       "    .dataframe tbody tr th {\n",
       "        vertical-align: top;\n",
       "    }\n",
       "\n",
       "    .dataframe thead th {\n",
       "        text-align: right;\n",
       "    }\n",
       "</style>\n",
       "<table border=\"1\" class=\"dataframe\">\n",
       "  <thead>\n",
       "    <tr style=\"text-align: right;\">\n",
       "      <th></th>\n",
       "      <th>department</th>\n",
       "      <th>total_prod_per_department</th>\n",
       "    </tr>\n",
       "  </thead>\n",
       "  <tbody>\n",
       "    <tr>\n",
       "      <th>0</th>\n",
       "      <td>GENERAL MERCHANDISE</td>\n",
       "      <td>1145425</td>\n",
       "    </tr>\n",
       "    <tr>\n",
       "      <th>1</th>\n",
       "      <td>DRY GROCERY</td>\n",
       "      <td>1188033</td>\n",
       "    </tr>\n",
       "    <tr>\n",
       "      <th>2</th>\n",
       "      <td>DELI</td>\n",
       "      <td>74735</td>\n",
       "    </tr>\n",
       "    <tr>\n",
       "      <th>3</th>\n",
       "      <td>ALCOHOLIC BEVERAGES</td>\n",
       "      <td>130662</td>\n",
       "    </tr>\n",
       "    <tr>\n",
       "      <th>4</th>\n",
       "      <td>FRESH PRODUCE</td>\n",
       "      <td>50349</td>\n",
       "    </tr>\n",
       "    <tr>\n",
       "      <th>5</th>\n",
       "      <td>DAIRY</td>\n",
       "      <td>123143</td>\n",
       "    </tr>\n",
       "    <tr>\n",
       "      <th>6</th>\n",
       "      <td>FROZEN FOODS</td>\n",
       "      <td>192659</td>\n",
       "    </tr>\n",
       "    <tr>\n",
       "      <th>7</th>\n",
       "      <td>PACKAGED MEAT</td>\n",
       "      <td>50980</td>\n",
       "    </tr>\n",
       "    <tr>\n",
       "      <th>8</th>\n",
       "      <td>HEALTH &amp; BEAUTY CARE</td>\n",
       "      <td>716162</td>\n",
       "    </tr>\n",
       "    <tr>\n",
       "      <th>9</th>\n",
       "      <td>NON-FOOD GROCERY</td>\n",
       "      <td>515654</td>\n",
       "    </tr>\n",
       "    <tr>\n",
       "      <th>10</th>\n",
       "      <td>MAGNET DATA</td>\n",
       "      <td>37</td>\n",
       "    </tr>\n",
       "  </tbody>\n",
       "</table>\n",
       "</div>"
      ],
      "text/plain": [
       "              department  total_prod_per_department\n",
       "0    GENERAL MERCHANDISE                    1145425\n",
       "1            DRY GROCERY                    1188033\n",
       "2                   DELI                      74735\n",
       "3    ALCOHOLIC BEVERAGES                     130662\n",
       "4          FRESH PRODUCE                      50349\n",
       "5                  DAIRY                     123143\n",
       "6           FROZEN FOODS                     192659\n",
       "7          PACKAGED MEAT                      50980\n",
       "8   HEALTH & BEAUTY CARE                     716162\n",
       "9       NON-FOOD GROCERY                     515654\n",
       "10           MAGNET DATA                         37"
      ]
     },
     "execution_count": 26,
     "metadata": {},
     "output_type": "execute_result"
    }
   ],
   "source": [
    "myresult"
   ]
  },
  {
   "cell_type": "code",
   "execution_count": 27,
   "metadata": {},
   "outputs": [],
   "source": [
    "import matplotlib.pyplot as plt"
   ]
  },
  {
   "cell_type": "code",
   "execution_count": 32,
   "metadata": {},
   "outputs": [
    {
     "data": {
      "image/png": "[encoded data removed]",
      "text/plain": [
       "<Figure size 432x288 with 1 Axes>"
      ]
     },
     "metadata": {
      "needs_background": "light"
     },
     "output_type": "display_data"
    }
   ],
   "source": [
    "fig, ax =plt.subplots()\n",
    "ax.bar(myresult['department'], myresult['total_prod_per_department'])\n",
    "ax.set_xticklabels(myresult['department'], rotation = 90)\n",
    "ax.set_ylabel('total number of products per department')\n",
    "plt.show()"
   ]
  },
  {
   "cell_type": "code",
   "execution_count": 33,
   "metadata": {},
   "outputs": [
    {
     "data": {
      "text/plain": [
       "True"
      ]
     },
     "execution_count": 33,
     "metadata": {},
     "output_type": "execute_result"
    }
   ],
   "source": [
    "sql_query = \"select department_at_prod_id as department, count(distinct module_at_prod_id) as total_module_per_department from dta_at_prod_id where department_at_prod_id is not null group by department_at_prod_id;\"\n",
    "mycursor = my_db.cursor()\n",
    "mycursor.execute(sql_query)\n",
    "myresult = mycursor.fetchall()\n",
    "mycursor.close()"
   ]
  },
  {
   "cell_type": "code",
   "execution_count": 34,
   "metadata": {},
   "outputs": [],
   "source": [
    "myresult = pd.DataFrame(myresult)\n",
    "myresult.columns =['department','total_module_per_department']"
   ]
  },
  {
   "cell_type": "code",
   "execution_count": 35,
   "metadata": {},
   "outputs": [
    {
     "data": {
      "text/html": [
       "<div>\n",
       "<style scoped>\n",
       "    .dataframe tbody tr th:only-of-type {\n",
       "        vertical-align: middle;\n",
       "    }\n",
       "\n",
       "    .dataframe tbody tr th {\n",
       "        vertical-align: top;\n",
       "    }\n",
       "\n",
       "    .dataframe thead th {\n",
       "        text-align: right;\n",
       "    }\n",
       "</style>\n",
       "<table border=\"1\" class=\"dataframe\">\n",
       "  <thead>\n",
       "    <tr style=\"text-align: right;\">\n",
       "      <th></th>\n",
       "      <th>department</th>\n",
       "      <th>total_module_per_department</th>\n",
       "    </tr>\n",
       "  </thead>\n",
       "  <tbody>\n",
       "    <tr>\n",
       "      <th>0</th>\n",
       "      <td>ALCOHOLIC BEVERAGES</td>\n",
       "      <td>33</td>\n",
       "    </tr>\n",
       "    <tr>\n",
       "      <th>1</th>\n",
       "      <td>DAIRY</td>\n",
       "      <td>48</td>\n",
       "    </tr>\n",
       "    <tr>\n",
       "      <th>2</th>\n",
       "      <td>DELI</td>\n",
       "      <td>18</td>\n",
       "    </tr>\n",
       "    <tr>\n",
       "      <th>3</th>\n",
       "      <td>DRY GROCERY</td>\n",
       "      <td>445</td>\n",
       "    </tr>\n",
       "    <tr>\n",
       "      <th>4</th>\n",
       "      <td>FRESH PRODUCE</td>\n",
       "      <td>27</td>\n",
       "    </tr>\n",
       "    <tr>\n",
       "      <th>5</th>\n",
       "      <td>FROZEN FOODS</td>\n",
       "      <td>90</td>\n",
       "    </tr>\n",
       "    <tr>\n",
       "      <th>6</th>\n",
       "      <td>GENERAL MERCHANDISE</td>\n",
       "      <td>194</td>\n",
       "    </tr>\n",
       "    <tr>\n",
       "      <th>7</th>\n",
       "      <td>HEALTH &amp; BEAUTY CARE</td>\n",
       "      <td>180</td>\n",
       "    </tr>\n",
       "    <tr>\n",
       "      <th>8</th>\n",
       "      <td>MAGNET DATA</td>\n",
       "      <td>1</td>\n",
       "    </tr>\n",
       "    <tr>\n",
       "      <th>9</th>\n",
       "      <td>NON-FOOD GROCERY</td>\n",
       "      <td>141</td>\n",
       "    </tr>\n",
       "    <tr>\n",
       "      <th>10</th>\n",
       "      <td>PACKAGED MEAT</td>\n",
       "      <td>15</td>\n",
       "    </tr>\n",
       "  </tbody>\n",
       "</table>\n",
       "</div>"
      ],
      "text/plain": [
       "              department  total_module_per_department\n",
       "0    ALCOHOLIC BEVERAGES                           33\n",
       "1                  DAIRY                           48\n",
       "2                   DELI                           18\n",
       "3            DRY GROCERY                          445\n",
       "4          FRESH PRODUCE                           27\n",
       "5           FROZEN FOODS                           90\n",
       "6    GENERAL MERCHANDISE                          194\n",
       "7   HEALTH & BEAUTY CARE                          180\n",
       "8            MAGNET DATA                            1\n",
       "9       NON-FOOD GROCERY                          141\n",
       "10         PACKAGED MEAT                           15"
      ]
     },
     "execution_count": 35,
     "metadata": {},
     "output_type": "execute_result"
    }
   ],
   "source": [
    "myresult "
   ]
  },
  {
   "cell_type": "code",
   "execution_count": 37,
   "metadata": {},
   "outputs": [
    {
     "data": {
      "image/png": "[encoded data removed]",
      "text/plain": [
       "<Figure size 432x288 with 1 Axes>"
      ]
     },
     "metadata": {
      "needs_background": "light"
     },
     "output_type": "display_data"
    }
   ],
   "source": [
    "fig, ax =plt.subplots()\n",
    "ax.bar(myresult['department'], myresult['total_module_per_department'])\n",
    "ax.set_xticklabels(myresult['department'], rotation = 90)\n",
    "ax.set_ylabel('total number of module per department')\n",
    "plt.show()"
   ]
  },
  {
   "cell_type": "markdown",
   "metadata": {},
   "source": [
    "# c.1."
   ]
  },
  {
   "cell_type": "code",
   "execution_count": 3,
   "metadata": {},
   "outputs": [],
   "source": [
    "import pandas as pd\n",
    "purchase = pd.read_csv('/Users/tjmask/Desktop/Courses/code of SQL/Bigdata_Final project/dta_at_TC_upc.csv')\n"
   ]
  },
  {
   "cell_type": "code",
   "execution_count": 31,
   "metadata": {},
   "outputs": [
    {
     "data": {
      "text/html": [
       "<div>\n",
       "<style scoped>\n",
       "    .dataframe tbody tr th:only-of-type {\n",
       "        vertical-align: middle;\n",
       "    }\n",
       "\n",
       "    .dataframe tbody tr th {\n",
       "        vertical-align: top;\n",
       "    }\n",
       "\n",
       "    .dataframe thead th {\n",
       "        text-align: right;\n",
       "    }\n",
       "</style>\n",
       "<table border=\"1\" class=\"dataframe\">\n",
       "  <thead>\n",
       "    <tr style=\"text-align: right;\">\n",
       "      <th></th>\n",
       "      <th>TC_id</th>\n",
       "      <th>quantity_at_TC_prod_id</th>\n",
       "    </tr>\n",
       "  </thead>\n",
       "  <tbody>\n",
       "    <tr>\n",
       "      <th>0</th>\n",
       "      <td>1030138</td>\n",
       "      <td>1</td>\n",
       "    </tr>\n",
       "    <tr>\n",
       "      <th>1</th>\n",
       "      <td>1030024</td>\n",
       "      <td>1</td>\n",
       "    </tr>\n",
       "    <tr>\n",
       "      <th>2</th>\n",
       "      <td>1029953</td>\n",
       "      <td>1</td>\n",
       "    </tr>\n",
       "    <tr>\n",
       "      <th>3</th>\n",
       "      <td>1029859</td>\n",
       "      <td>2</td>\n",
       "    </tr>\n",
       "    <tr>\n",
       "      <th>4</th>\n",
       "      <td>1029859</td>\n",
       "      <td>8</td>\n",
       "    </tr>\n",
       "  </tbody>\n",
       "</table>\n",
       "</div>"
      ],
      "text/plain": [
       "     TC_id  quantity_at_TC_prod_id\n",
       "0  1030138                       1\n",
       "1  1030024                       1\n",
       "2  1029953                       1\n",
       "3  1029859                       2\n",
       "4  1029859                       8"
      ]
     },
     "execution_count": 31,
     "metadata": {},
     "output_type": "execute_result"
    }
   ],
   "source": [
    "purchase_new = purchase[['TC_id','quantity_at_TC_prod_id']]\n",
    "purchase_new.head()"
   ]
  },
  {
   "cell_type": "code",
   "execution_count": 5,
   "metadata": {},
   "outputs": [],
   "source": [
    "trip = pd.read_csv('/Users/tjmask/Desktop/Courses/code of SQL/Bigdata_Final project/dta_at_TC.csv')"
   ]
  },
  {
   "cell_type": "code",
   "execution_count": 18,
   "metadata": {},
   "outputs": [
    {
     "data": {
      "text/html": [
       "<div>\n",
       "<style scoped>\n",
       "    .dataframe tbody tr th:only-of-type {\n",
       "        vertical-align: middle;\n",
       "    }\n",
       "\n",
       "    .dataframe tbody tr th {\n",
       "        vertical-align: top;\n",
       "    }\n",
       "\n",
       "    .dataframe thead th {\n",
       "        text-align: right;\n",
       "    }\n",
       "</style>\n",
       "<table border=\"1\" class=\"dataframe\">\n",
       "  <thead>\n",
       "    <tr style=\"text-align: right;\">\n",
       "      <th></th>\n",
       "      <th>hh_id</th>\n",
       "      <th>TC_id</th>\n",
       "      <th>TC_date</th>\n",
       "    </tr>\n",
       "  </thead>\n",
       "  <tbody>\n",
       "    <tr>\n",
       "      <th>0</th>\n",
       "      <td>2000000</td>\n",
       "      <td>20576</td>\n",
       "      <td>2003-12-29</td>\n",
       "    </tr>\n",
       "    <tr>\n",
       "      <th>1</th>\n",
       "      <td>2000000</td>\n",
       "      <td>38829</td>\n",
       "      <td>2003-12-30</td>\n",
       "    </tr>\n",
       "    <tr>\n",
       "      <th>2</th>\n",
       "      <td>2000000</td>\n",
       "      <td>92523</td>\n",
       "      <td>2004-01-02</td>\n",
       "    </tr>\n",
       "    <tr>\n",
       "      <th>3</th>\n",
       "      <td>2000000</td>\n",
       "      <td>155187</td>\n",
       "      <td>2004-01-05</td>\n",
       "    </tr>\n",
       "    <tr>\n",
       "      <th>4</th>\n",
       "      <td>2000000</td>\n",
       "      <td>221705</td>\n",
       "      <td>2004-01-09</td>\n",
       "    </tr>\n",
       "  </tbody>\n",
       "</table>\n",
       "</div>"
      ],
      "text/plain": [
       "     hh_id   TC_id     TC_date\n",
       "0  2000000   20576  2003-12-29\n",
       "1  2000000   38829  2003-12-30\n",
       "2  2000000   92523  2004-01-02\n",
       "3  2000000  155187  2004-01-05\n",
       "4  2000000  221705  2004-01-09"
      ]
     },
     "execution_count": 18,
     "metadata": {},
     "output_type": "execute_result"
    }
   ],
   "source": [
    "trip_new = trip[['hh_id', 'TC_id','TC_date']]\n",
    "trip_new.head()"
   ]
  },
  {
   "cell_type": "code",
   "execution_count": 19,
   "metadata": {},
   "outputs": [],
   "source": [
    "purchase_trip = pd.merge(purchase_new, trip_new, how='left', on ='TC_id')"
   ]
  },
  {
   "cell_type": "code",
   "execution_count": 32,
   "metadata": {},
   "outputs": [],
   "source": [
    "df = purchase_trip.groupby(['hh_id', 'TC_id']).sum()"
   ]
  },
  {
   "cell_type": "code",
   "execution_count": 33,
   "metadata": {},
   "outputs": [],
   "source": [
    "avg_purchase = df.groupby('hh_id').mean().round(0)"
   ]
  },
  {
   "cell_type": "code",
   "execution_count": 34,
   "metadata": {},
   "outputs": [
    {
     "data": {
      "text/html": [
       "<div>\n",
       "<style scoped>\n",
       "    .dataframe tbody tr th:only-of-type {\n",
       "        vertical-align: middle;\n",
       "    }\n",
       "\n",
       "    .dataframe tbody tr th {\n",
       "        vertical-align: top;\n",
       "    }\n",
       "\n",
       "    .dataframe thead th {\n",
       "        text-align: right;\n",
       "    }\n",
       "</style>\n",
       "<table border=\"1\" class=\"dataframe\">\n",
       "  <thead>\n",
       "    <tr style=\"text-align: right;\">\n",
       "      <th></th>\n",
       "      <th>quantity_at_TC_prod_id</th>\n",
       "      <th>prod_id</th>\n",
       "    </tr>\n",
       "    <tr>\n",
       "      <th>hh_id</th>\n",
       "      <th></th>\n",
       "      <th></th>\n",
       "    </tr>\n",
       "  </thead>\n",
       "  <tbody>\n",
       "    <tr>\n",
       "      <th>2000000</th>\n",
       "      <td>17.0</td>\n",
       "      <td>1.270801e+15</td>\n",
       "    </tr>\n",
       "    <tr>\n",
       "      <th>2000021</th>\n",
       "      <td>4.0</td>\n",
       "      <td>1.893926e+14</td>\n",
       "    </tr>\n",
       "    <tr>\n",
       "      <th>2000038</th>\n",
       "      <td>4.0</td>\n",
       "      <td>2.674090e+14</td>\n",
       "    </tr>\n",
       "    <tr>\n",
       "      <th>2000049</th>\n",
       "      <td>6.0</td>\n",
       "      <td>4.604281e+14</td>\n",
       "    </tr>\n",
       "    <tr>\n",
       "      <th>2000076</th>\n",
       "      <td>6.0</td>\n",
       "      <td>4.444752e+14</td>\n",
       "    </tr>\n",
       "  </tbody>\n",
       "</table>\n",
       "</div>"
      ],
      "text/plain": [
       "         quantity_at_TC_prod_id       prod_id\n",
       "hh_id                                        \n",
       "2000000                    17.0  1.270801e+15\n",
       "2000021                     4.0  1.893926e+14\n",
       "2000038                     4.0  2.674090e+14\n",
       "2000049                     6.0  4.604281e+14\n",
       "2000076                     6.0  4.444752e+14"
      ]
     },
     "execution_count": 34,
     "metadata": {},
     "output_type": "execute_result"
    }
   ],
   "source": [
    "avg_purchase.head()"
   ]
  },
  {
   "cell_type": "code",
   "execution_count": 55,
   "metadata": {},
   "outputs": [
    {
     "data": {
      "text/plain": [
       "True"
      ]
     },
     "execution_count": 55,
     "metadata": {},
     "output_type": "execute_result"
    }
   ],
   "source": [
    "sql_query = \"with t1 as (select hh_id, TC_id, concat(year(TC_date), date_format(TC_date,'%m')) as monthly_date from dta_at_TC),t2 as (select hh_id, monthly_date, count(TC_id) as count1 from t1 group by hh_id, monthly_date order by hh_id) select hh_id, avg(count1) as avg_trips from t2 group by hh_id;\"\n",
    "mycursor = my_db.cursor()\n",
    "mycursor.execute(sql_query)\n",
    "avg_trips = mycursor.fetchall()\n",
    "mycursor.close()"
   ]
  },
  {
   "cell_type": "code",
   "execution_count": 57,
   "metadata": {},
   "outputs": [
    {
     "data": {
      "text/html": [
       "<div>\n",
       "<style scoped>\n",
       "    .dataframe tbody tr th:only-of-type {\n",
       "        vertical-align: middle;\n",
       "    }\n",
       "\n",
       "    .dataframe tbody tr th {\n",
       "        vertical-align: top;\n",
       "    }\n",
       "\n",
       "    .dataframe thead th {\n",
       "        text-align: right;\n",
       "    }\n",
       "</style>\n",
       "<table border=\"1\" class=\"dataframe\">\n",
       "  <thead>\n",
       "    <tr style=\"text-align: right;\">\n",
       "      <th></th>\n",
       "      <th>hh_id</th>\n",
       "      <th>avg_trips</th>\n",
       "    </tr>\n",
       "  </thead>\n",
       "  <tbody>\n",
       "    <tr>\n",
       "      <th>0</th>\n",
       "      <td>2000000</td>\n",
       "      <td>12.1538</td>\n",
       "    </tr>\n",
       "    <tr>\n",
       "      <th>1</th>\n",
       "      <td>2000021</td>\n",
       "      <td>18.0000</td>\n",
       "    </tr>\n",
       "    <tr>\n",
       "      <th>2</th>\n",
       "      <td>2000038</td>\n",
       "      <td>21.3846</td>\n",
       "    </tr>\n",
       "    <tr>\n",
       "      <th>3</th>\n",
       "      <td>2000049</td>\n",
       "      <td>20.3846</td>\n",
       "    </tr>\n",
       "    <tr>\n",
       "      <th>4</th>\n",
       "      <td>2000076</td>\n",
       "      <td>13.3333</td>\n",
       "    </tr>\n",
       "  </tbody>\n",
       "</table>\n",
       "</div>"
      ],
      "text/plain": [
       "     hh_id avg_trips\n",
       "0  2000000   12.1538\n",
       "1  2000021   18.0000\n",
       "2  2000038   21.3846\n",
       "3  2000049   20.3846\n",
       "4  2000076   13.3333"
      ]
     },
     "execution_count": 57,
     "metadata": {},
     "output_type": "execute_result"
    }
   ],
   "source": [
    "avg_trips = pd.DataFrame(avg_trips)\n",
    "avg_trips.columns = ['hh_id','avg_trips']\n",
    "avg_trips.head()"
   ]
  },
  {
   "cell_type": "code",
   "execution_count": 58,
   "metadata": {},
   "outputs": [
    {
     "data": {
      "image/png": "[encoded data removed]",
      "text/plain": [
       "<Figure size 432x288 with 1 Axes>"
      ]
     },
     "metadata": {
      "needs_background": "light"
     },
     "output_type": "display_data"
    }
   ],
   "source": [
    "import matplotlib.pyplot as plt\n",
    "fig, ax = plt.subplots()\n",
    "ax.scatter(avg_purchase[\"quantity_at_TC_prod_id\"], avg_trips[\"avg_trips\"])\n",
    "ax.set_xlabel(\"Average number of items purchased per trip\")\n",
    "ax.set_ylabel(\"Average number of trips per month\")\n",
    "plt.show()"
   ]
  },
  {
   "cell_type": "markdown",
   "metadata": {},
   "source": [
    "# c.2."
   ]
  },
  {
   "cell_type": "code",
   "execution_count": 4,
   "metadata": {},
   "outputs": [
    {
     "data": {
      "text/plain": [
       "True"
      ]
     },
     "execution_count": 4,
     "metadata": {},
     "output_type": "execute_result"
    }
   ],
   "source": [
    "sql_query = \"select hh_id, TC_id, sum(total_price_paid_at_TC_prod_id)/sum(quantity_at_TC_prod_id) as avg_price_per_item from purchase_trip_prod group by TC_id, hh_id;\"\n",
    "mycursor = my_db.cursor()\n",
    "mycursor.execute(sql_query)\n",
    "avg_price_per_item = mycursor.fetchall()\n",
    "mycursor.close()"
   ]
  },
  {
   "cell_type": "code",
   "execution_count": 16,
   "metadata": {},
   "outputs": [
    {
     "data": {
      "text/html": [
       "<div>\n",
       "<style scoped>\n",
       "    .dataframe tbody tr th:only-of-type {\n",
       "        vertical-align: middle;\n",
       "    }\n",
       "\n",
       "    .dataframe tbody tr th {\n",
       "        vertical-align: top;\n",
       "    }\n",
       "\n",
       "    .dataframe thead th {\n",
       "        text-align: right;\n",
       "    }\n",
       "</style>\n",
       "<table border=\"1\" class=\"dataframe\">\n",
       "  <thead>\n",
       "    <tr style=\"text-align: right;\">\n",
       "      <th></th>\n",
       "      <th>hh_id</th>\n",
       "      <th>TC_id</th>\n",
       "      <th>avg_price_per_item</th>\n",
       "    </tr>\n",
       "  </thead>\n",
       "  <tbody>\n",
       "    <tr>\n",
       "      <th>0</th>\n",
       "      <td>8277482</td>\n",
       "      <td>1007510</td>\n",
       "      <td>1.062500</td>\n",
       "    </tr>\n",
       "    <tr>\n",
       "      <th>1</th>\n",
       "      <td>8276516</td>\n",
       "      <td>1007432</td>\n",
       "      <td>1.770233</td>\n",
       "    </tr>\n",
       "    <tr>\n",
       "      <th>2</th>\n",
       "      <td>8022351</td>\n",
       "      <td>1017259</td>\n",
       "      <td>2.038571</td>\n",
       "    </tr>\n",
       "    <tr>\n",
       "      <th>3</th>\n",
       "      <td>8021677</td>\n",
       "      <td>1017203</td>\n",
       "      <td>6.173333</td>\n",
       "    </tr>\n",
       "    <tr>\n",
       "      <th>4</th>\n",
       "      <td>8021099</td>\n",
       "      <td>1017161</td>\n",
       "      <td>1.504286</td>\n",
       "    </tr>\n",
       "  </tbody>\n",
       "</table>\n",
       "</div>"
      ],
      "text/plain": [
       "     hh_id    TC_id  avg_price_per_item\n",
       "0  8277482  1007510            1.062500\n",
       "1  8276516  1007432            1.770233\n",
       "2  8022351  1017259            2.038571\n",
       "3  8021677  1017203            6.173333\n",
       "4  8021099  1017161            1.504286"
      ]
     },
     "execution_count": 16,
     "metadata": {},
     "output_type": "execute_result"
    }
   ],
   "source": [
    "len(avg_price_per_item)\n",
    "avg_price_per_item = pd.DataFrame(avg_price_per_item)\n",
    "avg_price_per_item.columns = ['hh_id','TC_id','avg_price_per_item']\n",
    "avg_price_per_item.head()"
   ]
  },
  {
   "cell_type": "code",
   "execution_count": 21,
   "metadata": {},
   "outputs": [
    {
     "data": {
      "text/plain": [
       "True"
      ]
     },
     "execution_count": 21,
     "metadata": {},
     "output_type": "execute_result"
    }
   ],
   "source": [
    "sql_query = \"select TC_id, hh_id, sum(quantity_at_TC_prod_id)/count(TC_id) as avg_num_items from purchase_trip_prod group by TC_id, hh_id;\"\n",
    "mycursor = my_db.cursor()\n",
    "mycursor.execute(sql_query)\n",
    "avg_num_items = mycursor.fetchall()\n",
    "mycursor.close()"
   ]
  },
  {
   "cell_type": "code",
   "execution_count": 22,
   "metadata": {},
   "outputs": [
    {
     "data": {
      "text/html": [
       "<div>\n",
       "<style scoped>\n",
       "    .dataframe tbody tr th:only-of-type {\n",
       "        vertical-align: middle;\n",
       "    }\n",
       "\n",
       "    .dataframe tbody tr th {\n",
       "        vertical-align: top;\n",
       "    }\n",
       "\n",
       "    .dataframe thead th {\n",
       "        text-align: right;\n",
       "    }\n",
       "</style>\n",
       "<table border=\"1\" class=\"dataframe\">\n",
       "  <thead>\n",
       "    <tr style=\"text-align: right;\">\n",
       "      <th></th>\n",
       "      <th>TC_id</th>\n",
       "      <th>hh_id</th>\n",
       "      <th>avg_num_items</th>\n",
       "    </tr>\n",
       "  </thead>\n",
       "  <tbody>\n",
       "    <tr>\n",
       "      <th>0</th>\n",
       "      <td>1007510</td>\n",
       "      <td>8277482</td>\n",
       "      <td>1.0000</td>\n",
       "    </tr>\n",
       "    <tr>\n",
       "      <th>1</th>\n",
       "      <td>1007432</td>\n",
       "      <td>8276516</td>\n",
       "      <td>1.4828</td>\n",
       "    </tr>\n",
       "    <tr>\n",
       "      <th>2</th>\n",
       "      <td>1017259</td>\n",
       "      <td>8022351</td>\n",
       "      <td>1.0000</td>\n",
       "    </tr>\n",
       "    <tr>\n",
       "      <th>3</th>\n",
       "      <td>1017203</td>\n",
       "      <td>8021677</td>\n",
       "      <td>1.5000</td>\n",
       "    </tr>\n",
       "    <tr>\n",
       "      <th>4</th>\n",
       "      <td>1017161</td>\n",
       "      <td>8021099</td>\n",
       "      <td>1.2727</td>\n",
       "    </tr>\n",
       "  </tbody>\n",
       "</table>\n",
       "</div>"
      ],
      "text/plain": [
       "     TC_id    hh_id avg_num_items\n",
       "0  1007510  8277482        1.0000\n",
       "1  1007432  8276516        1.4828\n",
       "2  1017259  8022351        1.0000\n",
       "3  1017203  8021677        1.5000\n",
       "4  1017161  8021099        1.2727"
      ]
     },
     "execution_count": 22,
     "metadata": {},
     "output_type": "execute_result"
    }
   ],
   "source": [
    "len(avg_num_items)\n",
    "avg_num_items = pd.DataFrame(avg_num_items)\n",
    "avg_num_items.columns = ['TC_id','hh_id', 'avg_num_items']\n",
    "avg_num_items.head()"
   ]
  },
  {
   "cell_type": "code",
   "execution_count": 27,
   "metadata": {},
   "outputs": [
    {
     "data": {
      "image/png": "[encoded data removed]",
      "text/plain": [
       "<Figure size 432x288 with 1 Axes>"
      ]
     },
     "metadata": {
      "needs_background": "light"
     },
     "output_type": "display_data"
    }
   ],
   "source": [
    "import matplotlib.pyplot as plt\n",
    "fig, ax = plt.subplots()\n",
    "ax.scatter(avg_num_items[\"avg_num_items\"], avg_price_per_item[\"avg_price_per_item\"])\n",
    "ax.set_xlabel(\"Average number of items purchased\")\n",
    "ax.set_ylabel(\"Average price paid per item\")\n",
    "plt.show()"
   ]
  },
  {
   "cell_type": "markdown",
   "metadata": {},
   "source": [
    "## c.3.i"
   ]
  },
  {
   "cell_type": "code",
   "execution_count": 34,
   "metadata": {},
   "outputs": [
    {
     "data": {
      "text/plain": [
       "True"
      ]
     },
     "execution_count": 34,
     "metadata": {},
     "output_type": "execute_result"
    }
   ],
   "source": [
    "sql_query = \"select department_at_prod_id as category, count(brand_at_prod_id) as num_private_category from dta_at_prod_id where brand_at_prod_id regexp '(CTL BR)'group by department_at_prod_id;\"\n",
    "mycursor = my_db.cursor()\n",
    "mycursor.execute(sql_query)\n",
    "private_labeled = mycursor.fetchall()\n",
    "mycursor.close()"
   ]
  },
  {
   "cell_type": "code",
   "execution_count": null,
   "metadata": {},
   "outputs": [],
   "source": [
    "private_labeled = pd.DataFrame(private_labeled)\n",
    "private_labeled.columns =['category', 'number']"
   ]
  },
  {
   "cell_type": "code",
   "execution_count": 57,
   "metadata": {},
   "outputs": [
    {
     "data": {
      "text/html": [
       "<div>\n",
       "<style scoped>\n",
       "    .dataframe tbody tr th:only-of-type {\n",
       "        vertical-align: middle;\n",
       "    }\n",
       "\n",
       "    .dataframe tbody tr th {\n",
       "        vertical-align: top;\n",
       "    }\n",
       "\n",
       "    .dataframe thead th {\n",
       "        text-align: right;\n",
       "    }\n",
       "</style>\n",
       "<table border=\"1\" class=\"dataframe\">\n",
       "  <thead>\n",
       "    <tr style=\"text-align: right;\">\n",
       "      <th></th>\n",
       "      <th>index</th>\n",
       "      <th>category</th>\n",
       "      <th>number</th>\n",
       "    </tr>\n",
       "  </thead>\n",
       "  <tbody>\n",
       "    <tr>\n",
       "      <th>0</th>\n",
       "      <td>0</td>\n",
       "      <td>FRESH PRODUCE</td>\n",
       "      <td>10250</td>\n",
       "    </tr>\n",
       "    <tr>\n",
       "      <th>1</th>\n",
       "      <td>1</td>\n",
       "      <td>DELI</td>\n",
       "      <td>35173</td>\n",
       "    </tr>\n",
       "    <tr>\n",
       "      <th>2</th>\n",
       "      <td>2</td>\n",
       "      <td>GENERAL MERCHANDISE</td>\n",
       "      <td>154744</td>\n",
       "    </tr>\n",
       "    <tr>\n",
       "      <th>3</th>\n",
       "      <td>3</td>\n",
       "      <td>DRY GROCERY</td>\n",
       "      <td>421425</td>\n",
       "    </tr>\n",
       "    <tr>\n",
       "      <th>4</th>\n",
       "      <td>4</td>\n",
       "      <td>DAIRY</td>\n",
       "      <td>47133</td>\n",
       "    </tr>\n",
       "    <tr>\n",
       "      <th>5</th>\n",
       "      <td>5</td>\n",
       "      <td>FROZEN FOODS</td>\n",
       "      <td>79701</td>\n",
       "    </tr>\n",
       "    <tr>\n",
       "      <th>6</th>\n",
       "      <td>6</td>\n",
       "      <td>PACKAGED MEAT</td>\n",
       "      <td>15851</td>\n",
       "    </tr>\n",
       "    <tr>\n",
       "      <th>7</th>\n",
       "      <td>7</td>\n",
       "      <td>HEALTH &amp; BEAUTY CARE</td>\n",
       "      <td>178532</td>\n",
       "    </tr>\n",
       "    <tr>\n",
       "      <th>8</th>\n",
       "      <td>8</td>\n",
       "      <td>NON-FOOD GROCERY</td>\n",
       "      <td>169298</td>\n",
       "    </tr>\n",
       "    <tr>\n",
       "      <th>9</th>\n",
       "      <td>9</td>\n",
       "      <td>None</td>\n",
       "      <td>3623</td>\n",
       "    </tr>\n",
       "    <tr>\n",
       "      <th>10</th>\n",
       "      <td>10</td>\n",
       "      <td>ALCOHOLIC BEVERAGES</td>\n",
       "      <td>2781</td>\n",
       "    </tr>\n",
       "  </tbody>\n",
       "</table>\n",
       "</div>"
      ],
      "text/plain": [
       "    index              category  number\n",
       "0       0         FRESH PRODUCE   10250\n",
       "1       1                  DELI   35173\n",
       "2       2   GENERAL MERCHANDISE  154744\n",
       "3       3           DRY GROCERY  421425\n",
       "4       4                 DAIRY   47133\n",
       "5       5          FROZEN FOODS   79701\n",
       "6       6         PACKAGED MEAT   15851\n",
       "7       7  HEALTH & BEAUTY CARE  178532\n",
       "8       8      NON-FOOD GROCERY  169298\n",
       "9       9                  None    3623\n",
       "10     10   ALCOHOLIC BEVERAGES    2781"
      ]
     },
     "execution_count": 57,
     "metadata": {},
     "output_type": "execute_result"
    }
   ],
   "source": [
    "private_labeled.reset_index(inplace=True)\n",
    "private_labeled"
   ]
  },
  {
   "cell_type": "code",
   "execution_count": 65,
   "metadata": {},
   "outputs": [
    {
     "data": {
      "text/html": [
       "<div>\n",
       "<style scoped>\n",
       "    .dataframe tbody tr th:only-of-type {\n",
       "        vertical-align: middle;\n",
       "    }\n",
       "\n",
       "    .dataframe tbody tr th {\n",
       "        vertical-align: top;\n",
       "    }\n",
       "\n",
       "    .dataframe thead th {\n",
       "        text-align: right;\n",
       "    }\n",
       "</style>\n",
       "<table border=\"1\" class=\"dataframe\">\n",
       "  <thead>\n",
       "    <tr style=\"text-align: right;\">\n",
       "      <th></th>\n",
       "      <th>index</th>\n",
       "      <th>category</th>\n",
       "      <th>number</th>\n",
       "    </tr>\n",
       "  </thead>\n",
       "  <tbody>\n",
       "    <tr>\n",
       "      <th>0</th>\n",
       "      <td>0</td>\n",
       "      <td>FRESH PRODUCE</td>\n",
       "      <td>10250</td>\n",
       "    </tr>\n",
       "    <tr>\n",
       "      <th>1</th>\n",
       "      <td>1</td>\n",
       "      <td>DELI</td>\n",
       "      <td>35173</td>\n",
       "    </tr>\n",
       "    <tr>\n",
       "      <th>2</th>\n",
       "      <td>2</td>\n",
       "      <td>GENERAL MERCHANDISE</td>\n",
       "      <td>154744</td>\n",
       "    </tr>\n",
       "    <tr>\n",
       "      <th>3</th>\n",
       "      <td>3</td>\n",
       "      <td>DRY GROCERY</td>\n",
       "      <td>421425</td>\n",
       "    </tr>\n",
       "    <tr>\n",
       "      <th>4</th>\n",
       "      <td>4</td>\n",
       "      <td>DAIRY</td>\n",
       "      <td>47133</td>\n",
       "    </tr>\n",
       "    <tr>\n",
       "      <th>5</th>\n",
       "      <td>5</td>\n",
       "      <td>FROZEN FOODS</td>\n",
       "      <td>79701</td>\n",
       "    </tr>\n",
       "    <tr>\n",
       "      <th>6</th>\n",
       "      <td>6</td>\n",
       "      <td>PACKAGED MEAT</td>\n",
       "      <td>15851</td>\n",
       "    </tr>\n",
       "    <tr>\n",
       "      <th>7</th>\n",
       "      <td>7</td>\n",
       "      <td>HEALTH &amp; BEAUTY CARE</td>\n",
       "      <td>178532</td>\n",
       "    </tr>\n",
       "    <tr>\n",
       "      <th>8</th>\n",
       "      <td>8</td>\n",
       "      <td>NON-FOOD GROCERY</td>\n",
       "      <td>169298</td>\n",
       "    </tr>\n",
       "    <tr>\n",
       "      <th>9</th>\n",
       "      <td>9</td>\n",
       "      <td>others</td>\n",
       "      <td>3623</td>\n",
       "    </tr>\n",
       "    <tr>\n",
       "      <th>10</th>\n",
       "      <td>10</td>\n",
       "      <td>ALCOHOLIC BEVERAGES</td>\n",
       "      <td>2781</td>\n",
       "    </tr>\n",
       "  </tbody>\n",
       "</table>\n",
       "</div>"
      ],
      "text/plain": [
       "    index              category  number\n",
       "0       0         FRESH PRODUCE   10250\n",
       "1       1                  DELI   35173\n",
       "2       2   GENERAL MERCHANDISE  154744\n",
       "3       3           DRY GROCERY  421425\n",
       "4       4                 DAIRY   47133\n",
       "5       5          FROZEN FOODS   79701\n",
       "6       6         PACKAGED MEAT   15851\n",
       "7       7  HEALTH & BEAUTY CARE  178532\n",
       "8       8      NON-FOOD GROCERY  169298\n",
       "9       9                others    3623\n",
       "10     10   ALCOHOLIC BEVERAGES    2781"
      ]
     },
     "execution_count": 65,
     "metadata": {},
     "output_type": "execute_result"
    }
   ],
   "source": [
    "private_labeled.iloc[9,1] = 'others'\n",
    "private_labeled"
   ]
  },
  {
   "cell_type": "code",
   "execution_count": 66,
   "metadata": {},
   "outputs": [
    {
     "data": {
      "image/png": "[encoded data removed]",
      "text/plain": [
       "<Figure size 432x288 with 1 Axes>"
      ]
     },
     "metadata": {
      "needs_background": "light"
     },
     "output_type": "display_data"
    }
   ],
   "source": [
    "import matplotlib.pyplot as plt\n",
    "fig, ax = plt.subplots()\n",
    "ax.bar(private_labeled['category'], private_labeled['number'])\n",
    "ax.set_xticklabels(private_labeled['category'], rotation = 90)\n",
    "ax.set_ylabel('# of private labeled items')\n",
    "plt.show()"
   ]
  },
  {
   "cell_type": "markdown",
   "metadata": {},
   "source": [
    "## c.3.ii"
   ]
  },
  {
   "cell_type": "code",
   "execution_count": 70,
   "metadata": {},
   "outputs": [
    {
     "data": {
      "text/plain": [
       "True"
      ]
     },
     "execution_count": 70,
     "metadata": {},
     "output_type": "execute_result"
    }
   ],
   "source": [
    "sql_query = \"with t1 as (select monthly, sum(total_price_paid_at_TC_prod_id) as total_monthly_spend from  private_labeled group by monthly),t2 as (select monthly, sum(total_price_paid_at_TC_prod_id) as total_monthly_labeled_spend from private_labeled where brand_at_prod_id regexp '(CTL BR)' group by monthly)select monthly, total_monthly_labeled_spend/total_monthly_spend as ratio_labeled from t1 inner join t2 using(monthly) order by monthly;\"\n",
    "mycursor = my_db.cursor()\n",
    "mycursor.execute(sql_query)\n",
    "monthly_ratio_labeled = mycursor.fetchall()\n",
    "mycursor.close()"
   ]
  },
  {
   "cell_type": "code",
   "execution_count": 74,
   "metadata": {},
   "outputs": [
    {
     "data": {
      "text/html": [
       "<div>\n",
       "<style scoped>\n",
       "    .dataframe tbody tr th:only-of-type {\n",
       "        vertical-align: middle;\n",
       "    }\n",
       "\n",
       "    .dataframe tbody tr th {\n",
       "        vertical-align: top;\n",
       "    }\n",
       "\n",
       "    .dataframe thead th {\n",
       "        text-align: right;\n",
       "    }\n",
       "</style>\n",
       "<table border=\"1\" class=\"dataframe\">\n",
       "  <thead>\n",
       "    <tr style=\"text-align: right;\">\n",
       "      <th></th>\n",
       "      <th>monthly_ratio_labeled</th>\n",
       "    </tr>\n",
       "    <tr>\n",
       "      <th>month</th>\n",
       "      <th></th>\n",
       "    </tr>\n",
       "  </thead>\n",
       "  <tbody>\n",
       "    <tr>\n",
       "      <th>1</th>\n",
       "      <td>0.158001</td>\n",
       "    </tr>\n",
       "    <tr>\n",
       "      <th>2</th>\n",
       "      <td>0.158612</td>\n",
       "    </tr>\n",
       "    <tr>\n",
       "      <th>3</th>\n",
       "      <td>0.156474</td>\n",
       "    </tr>\n",
       "    <tr>\n",
       "      <th>4</th>\n",
       "      <td>0.156678</td>\n",
       "    </tr>\n",
       "    <tr>\n",
       "      <th>5</th>\n",
       "      <td>0.156888</td>\n",
       "    </tr>\n",
       "    <tr>\n",
       "      <th>6</th>\n",
       "      <td>0.160873</td>\n",
       "    </tr>\n",
       "    <tr>\n",
       "      <th>7</th>\n",
       "      <td>0.163724</td>\n",
       "    </tr>\n",
       "    <tr>\n",
       "      <th>8</th>\n",
       "      <td>0.162136</td>\n",
       "    </tr>\n",
       "    <tr>\n",
       "      <th>9</th>\n",
       "      <td>0.163173</td>\n",
       "    </tr>\n",
       "    <tr>\n",
       "      <th>10</th>\n",
       "      <td>0.159954</td>\n",
       "    </tr>\n",
       "    <tr>\n",
       "      <th>11</th>\n",
       "      <td>0.163325</td>\n",
       "    </tr>\n",
       "    <tr>\n",
       "      <th>12</th>\n",
       "      <td>0.158434</td>\n",
       "    </tr>\n",
       "  </tbody>\n",
       "</table>\n",
       "</div>"
      ],
      "text/plain": [
       "       monthly_ratio_labeled\n",
       "month                       \n",
       "1                   0.158001\n",
       "2                   0.158612\n",
       "3                   0.156474\n",
       "4                   0.156678\n",
       "5                   0.156888\n",
       "6                   0.160873\n",
       "7                   0.163724\n",
       "8                   0.162136\n",
       "9                   0.163173\n",
       "10                  0.159954\n",
       "11                  0.163325\n",
       "12                  0.158434"
      ]
     },
     "execution_count": 74,
     "metadata": {},
     "output_type": "execute_result"
    }
   ],
   "source": [
    "monthly_ratio_labeled = pd.DataFrame(monthly_ratio_labeled)\n",
    "monthly_ratio_labeled.columns =['month', 'monthly_ratio_labeled']\n",
    "monthly_ratio_labeled.set_index(['month'])"
   ]
  },
  {
   "cell_type": "code",
   "execution_count": null,
   "metadata": {},
   "outputs": [],
   "source": [
    "monthly_ratio_labeled"
   ]
  },
  {
   "cell_type": "code",
   "execution_count": 76,
   "metadata": {},
   "outputs": [
    {
     "data": {
      "image/png": "[encoded data removed]",
      "text/plain": [
       "<Figure size 432x288 with 1 Axes>"
      ]
     },
     "metadata": {
      "needs_background": "light"
     },
     "output_type": "display_data"
    }
   ],
   "source": [
    "import matplotlib.pyplot as plt\n",
    "fig, ax = plt.subplots()\n",
    "ax.plot(monthly_ratio_labeled.index, monthly_ratio_labeled['monthly_ratio_labeled'])\n",
    "ax.set_ylabel('monthly spend ratio of labeled products')\n",
    "plt.show()"
   ]
  },
  {
   "cell_type": "code",
   "execution_count": null,
   "metadata": {},
   "outputs": [],
   "source": []
  },
  {
   "cell_type": "code",
   "execution_count": null,
   "metadata": {},
   "outputs": [],
   "source": []
  },
  {
   "cell_type": "code",
   "execution_count": null,
   "metadata": {},
   "outputs": [],
   "source": [
    "item_price "
   ]
  },
  {
   "cell_type": "code",
   "execution_count": null,
   "metadata": {},
   "outputs": [],
   "source": [
    "purchase_new = purchase[['TC_id','quantity_at_TC_prod_id']]\n",
    "purchase_new.head()"
   ]
  },
  {
   "cell_type": "code",
   "execution_count": 7,
   "metadata": {},
   "outputs": [],
   "source": [
    "product = pd.read_csv('/Users/tjmask/Desktop/Courses/code of SQL/Bigdata_Final project/dta_at_prod_id.csv')"
   ]
  },
  {
   "cell_type": "code",
   "execution_count": 8,
   "metadata": {},
   "outputs": [
    {
     "data": {
      "text/html": [
       "<div>\n",
       "<style scoped>\n",
       "    .dataframe tbody tr th:only-of-type {\n",
       "        vertical-align: middle;\n",
       "    }\n",
       "\n",
       "    .dataframe tbody tr th {\n",
       "        vertical-align: top;\n",
       "    }\n",
       "\n",
       "    .dataframe thead th {\n",
       "        text-align: right;\n",
       "    }\n",
       "</style>\n",
       "<table border=\"1\" class=\"dataframe\">\n",
       "  <thead>\n",
       "    <tr style=\"text-align: right;\">\n",
       "      <th></th>\n",
       "      <th>Unnamed: 0</th>\n",
       "      <th>brand_at_prod_id</th>\n",
       "      <th>department_at_prod_id</th>\n",
       "      <th>prod_id</th>\n",
       "      <th>group_at_prod_id</th>\n",
       "      <th>module_at_prod_id</th>\n",
       "      <th>amount_at_prod_id</th>\n",
       "      <th>units_at_prod_id</th>\n",
       "    </tr>\n",
       "  </thead>\n",
       "  <tbody>\n",
       "    <tr>\n",
       "      <th>0</th>\n",
       "      <td>0</td>\n",
       "      <td>SINFUL COLORS</td>\n",
       "      <td>HEALTH &amp; BEAUTY CARE</td>\n",
       "      <td>1.000000e+14</td>\n",
       "      <td>COSMETICS</td>\n",
       "      <td>COSMETICS-NAIL POLISH</td>\n",
       "      <td>0.5</td>\n",
       "      <td>OZ</td>\n",
       "    </tr>\n",
       "    <tr>\n",
       "      <th>1</th>\n",
       "      <td>1</td>\n",
       "      <td>SINFUL COLORS</td>\n",
       "      <td>HEALTH &amp; BEAUTY CARE</td>\n",
       "      <td>1.000000e+14</td>\n",
       "      <td>COSMETICS</td>\n",
       "      <td>COSMETICS-NAIL POLISH</td>\n",
       "      <td>0.5</td>\n",
       "      <td>OZ</td>\n",
       "    </tr>\n",
       "    <tr>\n",
       "      <th>2</th>\n",
       "      <td>2</td>\n",
       "      <td>SINFUL COLORS</td>\n",
       "      <td>HEALTH &amp; BEAUTY CARE</td>\n",
       "      <td>1.000000e+14</td>\n",
       "      <td>COSMETICS</td>\n",
       "      <td>COSMETICS-NAIL POLISH</td>\n",
       "      <td>0.5</td>\n",
       "      <td>OZ</td>\n",
       "    </tr>\n",
       "    <tr>\n",
       "      <th>3</th>\n",
       "      <td>3</td>\n",
       "      <td>SINFUL COLORS</td>\n",
       "      <td>HEALTH &amp; BEAUTY CARE</td>\n",
       "      <td>1.000000e+14</td>\n",
       "      <td>COSMETICS</td>\n",
       "      <td>COSMETICS-NAIL POLISH</td>\n",
       "      <td>0.5</td>\n",
       "      <td>OZ</td>\n",
       "    </tr>\n",
       "    <tr>\n",
       "      <th>4</th>\n",
       "      <td>4</td>\n",
       "      <td>SINFUL COLORS</td>\n",
       "      <td>HEALTH &amp; BEAUTY CARE</td>\n",
       "      <td>1.000000e+14</td>\n",
       "      <td>COSMETICS</td>\n",
       "      <td>COSMETICS-NAIL POLISH</td>\n",
       "      <td>0.5</td>\n",
       "      <td>OZ</td>\n",
       "    </tr>\n",
       "  </tbody>\n",
       "</table>\n",
       "</div>"
      ],
      "text/plain": [
       "   Unnamed: 0 brand_at_prod_id department_at_prod_id       prod_id  \\\n",
       "0           0    SINFUL COLORS  HEALTH & BEAUTY CARE  1.000000e+14   \n",
       "1           1    SINFUL COLORS  HEALTH & BEAUTY CARE  1.000000e+14   \n",
       "2           2    SINFUL COLORS  HEALTH & BEAUTY CARE  1.000000e+14   \n",
       "3           3    SINFUL COLORS  HEALTH & BEAUTY CARE  1.000000e+14   \n",
       "4           4    SINFUL COLORS  HEALTH & BEAUTY CARE  1.000000e+14   \n",
       "\n",
       "  group_at_prod_id      module_at_prod_id  amount_at_prod_id units_at_prod_id  \n",
       "0        COSMETICS  COSMETICS-NAIL POLISH                0.5               OZ  \n",
       "1        COSMETICS  COSMETICS-NAIL POLISH                0.5               OZ  \n",
       "2        COSMETICS  COSMETICS-NAIL POLISH                0.5               OZ  \n",
       "3        COSMETICS  COSMETICS-NAIL POLISH                0.5               OZ  \n",
       "4        COSMETICS  COSMETICS-NAIL POLISH                0.5               OZ  "
      ]
     },
     "execution_count": 8,
     "metadata": {},
     "output_type": "execute_result"
    }
   ],
   "source": [
    "product.head()"
   ]
  },
  {
   "cell_type": "code",
   "execution_count": null,
   "metadata": {},
   "outputs": [],
   "source": []
  }
 ],
 "metadata": {
  "kernelspec": {
   "display_name": "Python 3",
   "language": "python",
   "name": "python3"
  },
  "language_info": {
   "codemirror_mode": {
    "name": "ipython",
    "version": 3
   },
   "file_extension": ".py",
   "mimetype": "text/x-python",
   "name": "python",
   "nbconvert_exporter": "python",
   "pygments_lexer": "ipython3",
   "version": "3.7.3"
  }
 },
 "nbformat": 4,
 "nbformat_minor": 2
}
